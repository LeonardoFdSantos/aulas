{
 "cells": [
  {
   "cell_type": "code",
   "execution_count": null,
   "metadata": {},
   "outputs": [],
   "source": [
    "# !pip install pandas\n",
    "# !pip install matplotlib\n",
    "# !pip install seaborn"
   ]
  },
  {
   "cell_type": "markdown",
   "metadata": {},
   "source": [
    "<div class=\"alert alert-block alert alert-block alert alert-block alert-success\">\n",
    "<h1>Apresentação<h1>\n",
    "</div>"
   ]
  },
  {
   "cell_type": "markdown",
   "metadata": {},
   "source": [
    "### Thiago Kuma \n",
    "#### - Cientista de Dados na Loggi\n",
    "#### - Hipnólogo de entretenimento nas horas vagas"
   ]
  },
  {
   "cell_type": "markdown",
   "metadata": {},
   "source": [
    "<div class=\"alert alert-block alert-info\">\n",
    "    <h3>Visualização de Dados</h3>\n",
    "</div>"
   ]
  },
  {
   "cell_type": "markdown",
   "metadata": {},
   "source": [
    "## Leitura Recomendada:\n",
    "### Alberto Cairo \n",
    "- Professor na Universidade de Miami \n",
    "- Visualização de Dados  \n",
    "Livro [Art Introduction Information Visuzalization](https://www.amazon.com.br/Functional-Art-introduction-information-visualization-ebook/dp/B0091SXDOM?__mk_pt_BR=%C3%85M%C3%85%C5%BD%C3%95%C3%91&keywords=alberto+cairo&qid=1537789336&sr=8-2&ref=sr_1_2)"
   ]
  },
  {
   "cell_type": "markdown",
   "metadata": {},
   "source": [
    "<div class=\"alert alert-block alert-info\">\n",
    "    <h3>Base dos Gráficos</h3>\n",
    "</div>"
   ]
  },
  {
   "cell_type": "markdown",
   "metadata": {},
   "source": [
    "### Framework\n",
    "- Base\n",
    "- Escalas\n",
    "- Legendas\n",
    "\n",
    "### Visual encodings\n",
    "- O mais importante\n",
    "- Como dar significado aos números, ex. gráfico de barras quando colocamos proporção\n",
    "\n",
    "### Annotations\n",
    "- Texto que dá contexto\n",
    "- Pode servir de introdução\n",
    "\n",
    "![exemplo](imgs/3elementos_graficos.png \"Exemplos\")"
   ]
  },
  {
   "cell_type": "markdown",
   "metadata": {},
   "source": [
    "<div class=\"alert alert-block alert-info\">\n",
    "    <h3>Falando em visualização de Dados e Mapa...</h3>\n",
    "</div>"
   ]
  },
  {
   "cell_type": "markdown",
   "metadata": {},
   "source": [
    "### Mapa VAGAS de Carreira\n",
    "[Mapa de Carreira](https://www.vagas.com.br/mapa-de-carreiras/)\n",
    "##### - Processamento de 10 milhões de currículos  \n",
    "##### - Representação baseada em grafo  \n",
    "#####  \n",
    "##### - Representação Gênero\n",
    "##### - Representação Salarial\n",
    "##### - Representação das Ocupações\n",
    "#####  [Professora Pedagoga](https://www.vagas.com.br/mapa-de-carreiras/cargos/professora-pedagoga/0)\n",
    "#####    \n",
    "##### - Distribuição para demonstrar proximidade\n",
    "#####  [Médico](https://www.vagas.com.br/mapa-de-carreiras/cargos/medico/0)"
   ]
  },
  {
   "cell_type": "markdown",
   "metadata": {},
   "source": [
    "<div class=\"alert alert-block alert-info\">\n",
    "    <h3>Vamos olhar mais tecnicamente</h3>\n",
    "</div>"
   ]
  },
  {
   "cell_type": "markdown",
   "metadata": {},
   "source": [
    "## Gráficos de barras\n",
    "  \n",
    "**Situação de uso**: quando queremos ter uma ideia da evolução temporal das nossas variáveis  \n",
    "  \n",
    "Título: Vendas de livros de ficção  \n",
    "Eixo Y: Ganhos brutos  \n",
    "Eixo X: Ano  \n",
    "<img src=\"imgs/bar_chart.jpg\" align=\"left\" width=\"50%\">"
   ]
  },
  {
   "cell_type": "markdown",
   "metadata": {},
   "source": [
    "## Gráficos de linhas\n",
    "**Situação de uso**: quando queremos ter uma ideia da evolução temporal contínua das nossas variáveis. Por causa disso é o plot mais comum em time series  \n",
    "<img src=\"imgs/line_chart.png\" align=\"left\" width=\"50%\">"
   ]
  },
  {
   "cell_type": "markdown",
   "metadata": {},
   "source": [
    "## Scatter Plot\n",
    "**Situação de uso**: quando queremos estudar a relação entre duas variáveis quantitativas\n",
    "<img src=\"imgs/scatter.png\" align=\"left\" width=\"50%\">"
   ]
  },
  {
   "cell_type": "markdown",
   "metadata": {},
   "source": [
    "## Histogram\n",
    "**Situação de uso**: analisar a distribuição de uma variável quantitativa  \n",
    "<img src=\"imgs/histogram.png\" align=\"left\" width=\"50%\">"
   ]
  },
  {
   "cell_type": "markdown",
   "metadata": {},
   "source": [
    "## Box plot\n",
    "**Situação de uso**: quando queremos ter um entendimento dos momentos estatísticos básicos dos nossos dados\n",
    "\n",
    "**Quando falha**: quando você tem muitas classes e o plot fica confuso\n",
    "\n",
    "Como ler um boxplot:  \n",
    "<img src=\"imgs/Elements_of_a_boxplot_pt.svg.png\" align=\"left\" width=\"50%\">\n",
    "<img src=\"imgs/1_NRlqiZGQdsIyAu0KzP7LaQ.png\" align=\"left\" width=\"50%\">"
   ]
  },
  {
   "cell_type": "markdown",
   "metadata": {},
   "source": [
    "## Treemap Chart\n",
    "**Situação de uso**: quando você possui classes e clusters relativos a elas e precisa de uma foto de informação proporcional entre elas  \n",
    "<img src=\"imgs/treemap_chart.png\" align=\"left\" width=\"50%\">"
   ]
  },
  {
   "cell_type": "markdown",
   "metadata": {},
   "source": [
    "<div class=\"alert alert-block alert-info\">\n",
    "    <h3>Primeiros Gráficos</h3>\n",
    "</div>"
   ]
  },
  {
   "cell_type": "code",
   "execution_count": null,
   "metadata": {},
   "outputs": [],
   "source": [
    "import matplotlib.pyplot as plt"
   ]
  },
  {
   "cell_type": "markdown",
   "metadata": {},
   "source": [
    "**API do Pyplot:** [matplotlib](https://matplotlib.org/api/pyplot_api.html)\n",
    "\n",
    "<img src='imgs/artists_figure.png' height='400' width='400'/>\n",
    "<img src='imgs/artists_tree.png'  height='400' width='400'/>\n",
    "\n",
    "**Tutorial:** [maplotlib](https://matplotlib.org/tutorials/introductory/pyplot.html)"
   ]
  },
  {
   "cell_type": "code",
   "execution_count": null,
   "metadata": {},
   "outputs": [],
   "source": [
    "plt.plot([1, 2, 3, 4])\n",
    "plt.ylabel('some numbers')\n",
    "plt.show()"
   ]
  },
  {
   "cell_type": "code",
   "execution_count": null,
   "metadata": {},
   "outputs": [],
   "source": [
    "plt.plot([1, 2], [1, 4], 'ro') #red circle\n",
    "plt.plot([3], [9], 'b.') #blue point\n",
    "plt.plot([4], [16], 'ys') #yellow square\n",
    "plt.plot([5], [25], 'g^') #green triangles\n",
    "plt.axis([0, 6, 0, 30])\n",
    "plt.show()"
   ]
  },
  {
   "cell_type": "code",
   "execution_count": null,
   "metadata": {},
   "outputs": [],
   "source": [
    "names = ['group_a', 'group_b', 'group_c']\n",
    "values = [1, 10, 100]\n",
    "\n",
    "plt.figure(figsize=(9, 3))\n",
    "\n",
    "plt.bar(names, values)\n",
    "plt.show()"
   ]
  },
  {
   "cell_type": "code",
   "execution_count": null,
   "metadata": {},
   "outputs": [],
   "source": [
    "names = ['group_a', 'group_b', 'group_c']\n",
    "values = [1, 10, 100]\n",
    "\n",
    "plt.figure(figsize=(9, 3))\n",
    "\n",
    "plt.scatter(names, values)\n",
    "plt.show()"
   ]
  },
  {
   "cell_type": "code",
   "execution_count": null,
   "metadata": {},
   "outputs": [],
   "source": [
    "names = ['group_a', 'group_b', 'group_c']\n",
    "values = [1, 10, 100]\n",
    "\n",
    "plt.figure(figsize=(9, 3))\n",
    "\n",
    "plt.plot(names, values)\n",
    "plt.show()"
   ]
  },
  {
   "cell_type": "markdown",
   "metadata": {},
   "source": [
    "<div class=\"alert alert-block alert-info\">\n",
    "    <h3>Gráficos Mais Complexos</h3>\n",
    "</div>"
   ]
  },
  {
   "cell_type": "code",
   "execution_count": null,
   "metadata": {},
   "outputs": [],
   "source": [
    "import pandas as pd\n",
    "kc = pd.read_csv(r'KingCounty_house_data.csv')\n",
    "print(kc.size)\n",
    "df = kc.sample(5000)\n",
    "df.head()"
   ]
  },
  {
   "cell_type": "code",
   "execution_count": null,
   "metadata": {},
   "outputs": [],
   "source": [
    "df.price.hist(bins=100).plot()\n",
    "# https://pandas.pydata.org/pandas-docs/stable/reference/api/pandas.DataFrame.plot.hist.html"
   ]
  },
  {
   "cell_type": "code",
   "execution_count": null,
   "metadata": {},
   "outputs": [],
   "source": [
    "import seaborn as sns\n",
    "sns.jointplot(x=\"sqft_living\", y=\"price\", data=df, kind = 'reg',fit_reg= True, height = 8)\n",
    "plt.show()\n",
    "# https://seaborn.pydata.org/generated/seaborn.jointplot.html"
   ]
  }
 ],
 "metadata": {
  "kernelspec": {
   "display_name": "Python [conda env:aula_visualizacao] *",
   "language": "python",
   "name": "conda-env-aula_visualizacao-py"
  },
  "language_info": {
   "codemirror_mode": {
    "name": "ipython",
    "version": 3
   },
   "file_extension": ".py",
   "mimetype": "text/x-python",
   "name": "python",
   "nbconvert_exporter": "python",
   "pygments_lexer": "ipython3",
   "version": "3.6.9"
  }
 },
 "nbformat": 4,
 "nbformat_minor": 2
}
